{
 "cells": [
  {
   "cell_type": "markdown",
   "metadata": {
    "id": "NYbON1c1ImwA"
   },
   "source": [
    "# Aula 1"
   ]
  },
  {
   "cell_type": "markdown",
   "metadata": {
    "id": "KVZOBoSHJL2_"
   },
   "source": [
    "## Colab e Kaggle"
   ]
  },
  {
   "cell_type": "markdown",
   "metadata": {
    "id": "zegDJZcnInbu"
   },
   "source": [
    "Nós vamos usar uma base de dados do Kaggle chamada [Fraud Detection Example](https://www.kaggle.com/gopalmahadevan/fraud-detection-example) e ela tem uma fração de dados do [PaySim](https://github.com/EdgarLopezPhD/PaySim), um simulador de dados financeiros feito exatamente para detecção de fraude."
   ]
  },
  {
   "cell_type": "markdown",
   "metadata": {
    "id": "CgXdNw8NInyO"
   },
   "source": [
    "**Variáveis do dataset**\n",
    "\n",
    "**step** - mapeia uma unidade de tempo no mundo real. Neste caso, 1 passo é 1 hora de tempo. Total de etapas 744 (simulação de 30 dias).\n",
    "\n",
    "**type** - CASH-IN, CASH-OUT, DEBIT, PAYMENT and TRANSFER. \n",
    "(caixa-de-entrada, caixa-de-saida, débito, pagamento e transferência)\n",
    "\n",
    "**amount** - valor da transação em moeda local.\n",
    "\n",
    "**nameOrig** - cliente que iniciou a transação\n",
    "\n",
    "**oldbalanceOrg** - saldo inicial antes da transação\n",
    "\n",
    "**newbalanceOrig** - novo saldo após a transação\n",
    "\n",
    "**nameDest** - cliente que é o destinatário da transação\n",
    "\n",
    "**oldbalanceDest** - destinatário do saldo inicial antes da transação. \n",
    "Observe que não há informações para clientes que começam com M (Comerciantes).\n",
    "\n",
    "**newbalanceDest** - novo destinatário do saldo após a transação. Observe que não há informações para clientes que começam com M (Comerciantes).\n",
    "\n",
    "**isFraud** - São as transações feitas pelos agentes fraudulentos dentro da simulação. Neste conjunto de dados específico, o comportamento fraudulento dos agentes visa lucrar ao assumir o controle das contas dos clientes e tentar esvaziar os fundos transferindo para outra conta e depois sacando do sistema.\n",
    "\n",
    "**isFlaggedFraud** - O modelo de negócios visa controlar transferências massivas de uma conta para outra e sinaliza tentativas ilegais. Uma tentativa ilegal neste conjunto de dados é uma tentativa de transferir mais de 200.000 em uma única transação.\n"
   ]
  },
  {
   "cell_type": "markdown",
   "metadata": {
    "id": "ZJjM0peYKpoX"
   },
   "source": [
    "# Aula 2"
   ]
  },
  {
   "cell_type": "markdown",
   "metadata": {
    "id": "WvF1j4BXKtPI",
    "tags": []
   },
   "source": [
    "## Análise com Pandas"
   ]
  },
  {
   "cell_type": "code",
   "execution_count": 22,
   "metadata": {},
   "outputs": [],
   "source": [
    "import pandas as pd"
   ]
  },
  {
   "cell_type": "code",
   "execution_count": 23,
   "metadata": {},
   "outputs": [
    {
     "data": {
      "text/html": [
       "<div>\n",
       "<style scoped>\n",
       "    .dataframe tbody tr th:only-of-type {\n",
       "        vertical-align: middle;\n",
       "    }\n",
       "\n",
       "    .dataframe tbody tr th {\n",
       "        vertical-align: top;\n",
       "    }\n",
       "\n",
       "    .dataframe thead th {\n",
       "        text-align: right;\n",
       "    }\n",
       "</style>\n",
       "<table border=\"1\" class=\"dataframe\">\n",
       "  <thead>\n",
       "    <tr style=\"text-align: right;\">\n",
       "      <th></th>\n",
       "      <th>step</th>\n",
       "      <th>type</th>\n",
       "      <th>amount</th>\n",
       "      <th>nameOrig</th>\n",
       "      <th>oldbalanceOrg</th>\n",
       "      <th>newbalanceOrig</th>\n",
       "      <th>nameDest</th>\n",
       "      <th>oldbalanceDest</th>\n",
       "      <th>newbalanceDest</th>\n",
       "      <th>isFraud</th>\n",
       "      <th>isFlaggedFraud</th>\n",
       "    </tr>\n",
       "  </thead>\n",
       "  <tbody>\n",
       "    <tr>\n",
       "      <th>0</th>\n",
       "      <td>1</td>\n",
       "      <td>PAYMENT</td>\n",
       "      <td>9839.64</td>\n",
       "      <td>C1231006815</td>\n",
       "      <td>170136.0</td>\n",
       "      <td>160296.36</td>\n",
       "      <td>M1979787155</td>\n",
       "      <td>0.0</td>\n",
       "      <td>0.0</td>\n",
       "      <td>0</td>\n",
       "      <td>0</td>\n",
       "    </tr>\n",
       "    <tr>\n",
       "      <th>1</th>\n",
       "      <td>1</td>\n",
       "      <td>PAYMENT</td>\n",
       "      <td>1864.28</td>\n",
       "      <td>C1666544295</td>\n",
       "      <td>21249.0</td>\n",
       "      <td>19384.72</td>\n",
       "      <td>M2044282225</td>\n",
       "      <td>0.0</td>\n",
       "      <td>0.0</td>\n",
       "      <td>0</td>\n",
       "      <td>0</td>\n",
       "    </tr>\n",
       "    <tr>\n",
       "      <th>2</th>\n",
       "      <td>1</td>\n",
       "      <td>TRANSFER</td>\n",
       "      <td>181.00</td>\n",
       "      <td>C1305486145</td>\n",
       "      <td>181.0</td>\n",
       "      <td>0.00</td>\n",
       "      <td>C553264065</td>\n",
       "      <td>0.0</td>\n",
       "      <td>0.0</td>\n",
       "      <td>1</td>\n",
       "      <td>0</td>\n",
       "    </tr>\n",
       "    <tr>\n",
       "      <th>3</th>\n",
       "      <td>1</td>\n",
       "      <td>CASH_OUT</td>\n",
       "      <td>181.00</td>\n",
       "      <td>C840083671</td>\n",
       "      <td>181.0</td>\n",
       "      <td>0.00</td>\n",
       "      <td>C38997010</td>\n",
       "      <td>21182.0</td>\n",
       "      <td>0.0</td>\n",
       "      <td>1</td>\n",
       "      <td>0</td>\n",
       "    </tr>\n",
       "    <tr>\n",
       "      <th>4</th>\n",
       "      <td>1</td>\n",
       "      <td>PAYMENT</td>\n",
       "      <td>11668.14</td>\n",
       "      <td>C2048537720</td>\n",
       "      <td>41554.0</td>\n",
       "      <td>29885.86</td>\n",
       "      <td>M1230701703</td>\n",
       "      <td>0.0</td>\n",
       "      <td>0.0</td>\n",
       "      <td>0</td>\n",
       "      <td>0</td>\n",
       "    </tr>\n",
       "  </tbody>\n",
       "</table>\n",
       "</div>"
      ],
      "text/plain": [
       "   step      type    amount     nameOrig  oldbalanceOrg  newbalanceOrig  \\\n",
       "0     1   PAYMENT   9839.64  C1231006815       170136.0       160296.36   \n",
       "1     1   PAYMENT   1864.28  C1666544295        21249.0        19384.72   \n",
       "2     1  TRANSFER    181.00  C1305486145          181.0            0.00   \n",
       "3     1  CASH_OUT    181.00   C840083671          181.0            0.00   \n",
       "4     1   PAYMENT  11668.14  C2048537720        41554.0        29885.86   \n",
       "\n",
       "      nameDest  oldbalanceDest  newbalanceDest  isFraud  isFlaggedFraud  \n",
       "0  M1979787155             0.0             0.0        0               0  \n",
       "1  M2044282225             0.0             0.0        0               0  \n",
       "2   C553264065             0.0             0.0        1               0  \n",
       "3    C38997010         21182.0             0.0        1               0  \n",
       "4  M1230701703             0.0             0.0        0               0  "
      ]
     },
     "execution_count": 23,
     "metadata": {},
     "output_type": "execute_result"
    }
   ],
   "source": [
    "df = pd.read_csv('Dados/fraud_dataset_example.csv')\n",
    "df.head()"
   ]
  },
  {
   "cell_type": "code",
   "execution_count": 24,
   "metadata": {},
   "outputs": [
    {
     "data": {
      "text/plain": [
       "Index(['step', 'type', 'amount', 'nameOrig', 'oldbalanceOrg', 'newbalanceOrig',\n",
       "       'nameDest', 'oldbalanceDest', 'newbalanceDest', 'isFraud',\n",
       "       'isFlaggedFraud'],\n",
       "      dtype='object')"
      ]
     },
     "execution_count": 24,
     "metadata": {},
     "output_type": "execute_result"
    }
   ],
   "source": [
    "df.columns"
   ]
  },
  {
   "cell_type": "markdown",
   "metadata": {
    "id": "UkiZK5ecLf-P",
    "tags": []
   },
   "source": [
    "### Trazendo as colunas de fraude para o começo do dataset"
   ]
  },
  {
   "cell_type": "code",
   "execution_count": 25,
   "metadata": {},
   "outputs": [
    {
     "data": {
      "text/html": [
       "<div>\n",
       "<style scoped>\n",
       "    .dataframe tbody tr th:only-of-type {\n",
       "        vertical-align: middle;\n",
       "    }\n",
       "\n",
       "    .dataframe tbody tr th {\n",
       "        vertical-align: top;\n",
       "    }\n",
       "\n",
       "    .dataframe thead th {\n",
       "        text-align: right;\n",
       "    }\n",
       "</style>\n",
       "<table border=\"1\" class=\"dataframe\">\n",
       "  <thead>\n",
       "    <tr style=\"text-align: right;\">\n",
       "      <th></th>\n",
       "      <th>isFlaggedFraud</th>\n",
       "      <th>isFraud</th>\n",
       "      <th>step</th>\n",
       "      <th>type</th>\n",
       "      <th>amount</th>\n",
       "      <th>nameOrig</th>\n",
       "      <th>oldbalanceOrg</th>\n",
       "      <th>newbalanceOrig</th>\n",
       "      <th>nameDest</th>\n",
       "      <th>oldbalanceDest</th>\n",
       "      <th>newbalanceDest</th>\n",
       "    </tr>\n",
       "  </thead>\n",
       "  <tbody>\n",
       "    <tr>\n",
       "      <th>0</th>\n",
       "      <td>0</td>\n",
       "      <td>0</td>\n",
       "      <td>1</td>\n",
       "      <td>PAYMENT</td>\n",
       "      <td>9839.64</td>\n",
       "      <td>C1231006815</td>\n",
       "      <td>170136.0</td>\n",
       "      <td>160296.36</td>\n",
       "      <td>M1979787155</td>\n",
       "      <td>0.0</td>\n",
       "      <td>0.0</td>\n",
       "    </tr>\n",
       "    <tr>\n",
       "      <th>1</th>\n",
       "      <td>0</td>\n",
       "      <td>0</td>\n",
       "      <td>1</td>\n",
       "      <td>PAYMENT</td>\n",
       "      <td>1864.28</td>\n",
       "      <td>C1666544295</td>\n",
       "      <td>21249.0</td>\n",
       "      <td>19384.72</td>\n",
       "      <td>M2044282225</td>\n",
       "      <td>0.0</td>\n",
       "      <td>0.0</td>\n",
       "    </tr>\n",
       "    <tr>\n",
       "      <th>2</th>\n",
       "      <td>0</td>\n",
       "      <td>1</td>\n",
       "      <td>1</td>\n",
       "      <td>TRANSFER</td>\n",
       "      <td>181.00</td>\n",
       "      <td>C1305486145</td>\n",
       "      <td>181.0</td>\n",
       "      <td>0.00</td>\n",
       "      <td>C553264065</td>\n",
       "      <td>0.0</td>\n",
       "      <td>0.0</td>\n",
       "    </tr>\n",
       "    <tr>\n",
       "      <th>3</th>\n",
       "      <td>0</td>\n",
       "      <td>1</td>\n",
       "      <td>1</td>\n",
       "      <td>CASH_OUT</td>\n",
       "      <td>181.00</td>\n",
       "      <td>C840083671</td>\n",
       "      <td>181.0</td>\n",
       "      <td>0.00</td>\n",
       "      <td>C38997010</td>\n",
       "      <td>21182.0</td>\n",
       "      <td>0.0</td>\n",
       "    </tr>\n",
       "    <tr>\n",
       "      <th>4</th>\n",
       "      <td>0</td>\n",
       "      <td>0</td>\n",
       "      <td>1</td>\n",
       "      <td>PAYMENT</td>\n",
       "      <td>11668.14</td>\n",
       "      <td>C2048537720</td>\n",
       "      <td>41554.0</td>\n",
       "      <td>29885.86</td>\n",
       "      <td>M1230701703</td>\n",
       "      <td>0.0</td>\n",
       "      <td>0.0</td>\n",
       "    </tr>\n",
       "  </tbody>\n",
       "</table>\n",
       "</div>"
      ],
      "text/plain": [
       "   isFlaggedFraud  isFraud  step      type    amount     nameOrig  \\\n",
       "0               0        0     1   PAYMENT   9839.64  C1231006815   \n",
       "1               0        0     1   PAYMENT   1864.28  C1666544295   \n",
       "2               0        1     1  TRANSFER    181.00  C1305486145   \n",
       "3               0        1     1  CASH_OUT    181.00   C840083671   \n",
       "4               0        0     1   PAYMENT  11668.14  C2048537720   \n",
       "\n",
       "   oldbalanceOrg  newbalanceOrig     nameDest  oldbalanceDest  newbalanceDest  \n",
       "0       170136.0       160296.36  M1979787155             0.0             0.0  \n",
       "1        21249.0        19384.72  M2044282225             0.0             0.0  \n",
       "2          181.0            0.00   C553264065             0.0             0.0  \n",
       "3          181.0            0.00    C38997010         21182.0             0.0  \n",
       "4        41554.0        29885.86  M1230701703             0.0             0.0  "
      ]
     },
     "execution_count": 25,
     "metadata": {},
     "output_type": "execute_result"
    }
   ],
   "source": [
    "df = df[['isFlaggedFraud', 'isFraud', 'step', 'type', 'amount', 'nameOrig', 'oldbalanceOrg', 'newbalanceOrig',\n",
    "       'nameDest', 'oldbalanceDest', 'newbalanceDest']]\n",
    "df.head()"
   ]
  },
  {
   "cell_type": "markdown",
   "metadata": {
    "id": "aDu_pDqULo2v"
   },
   "source": [
    "### Renomeando as colunas"
   ]
  },
  {
   "cell_type": "markdown",
   "metadata": {
    "id": "veR6FVfPo9hY"
   },
   "source": [
    "Criando um dicionário\n",
    "```\n",
    "colunas = {\n",
    "    'isFraud': 'fraude',\n",
    "    'isFlaggedFraud':'super_fraude',\n",
    "    'step':'tempo',\n",
    "    'type':'tipo',\n",
    "    'amount':'valor',\n",
    "    'nameOrig':'cliente1',\n",
    "    'oldbalanceOrg':'saldo_inicial_c1',\n",
    "    'newbalanceOrig':'novo_saldo_c1',\n",
    "    'nameDest':'cliente2',\n",
    "    'oldbalanceDest':'saldo_inicial_c2',\n",
    "    'newbalanceDest':'novo_saldo_c2',\n",
    "}\n",
    "```"
   ]
  },
  {
   "cell_type": "code",
   "execution_count": 26,
   "metadata": {},
   "outputs": [],
   "source": [
    "colunas = {\n",
    "    'isFraud': 'fraude',\n",
    "    'isFlaggedFraud':'super_fraude',\n",
    "    'step':'tempo',\n",
    "    'type':'tipo',\n",
    "    'amount':'valor',\n",
    "    'nameOrig':'cliente1',\n",
    "    'oldbalanceOrg':'saldo_inicial_c1',\n",
    "    'newbalanceOrig':'novo_saldo_c1',\n",
    "    'nameDest':'cliente2',\n",
    "    'oldbalanceDest':'saldo_inicial_c2',\n",
    "    'newbalanceDest':'novo_saldo_c2',\n",
    "}"
   ]
  },
  {
   "cell_type": "code",
   "execution_count": 27,
   "metadata": {},
   "outputs": [
    {
     "data": {
      "text/html": [
       "<div>\n",
       "<style scoped>\n",
       "    .dataframe tbody tr th:only-of-type {\n",
       "        vertical-align: middle;\n",
       "    }\n",
       "\n",
       "    .dataframe tbody tr th {\n",
       "        vertical-align: top;\n",
       "    }\n",
       "\n",
       "    .dataframe thead th {\n",
       "        text-align: right;\n",
       "    }\n",
       "</style>\n",
       "<table border=\"1\" class=\"dataframe\">\n",
       "  <thead>\n",
       "    <tr style=\"text-align: right;\">\n",
       "      <th></th>\n",
       "      <th>super_fraude</th>\n",
       "      <th>fraude</th>\n",
       "      <th>tempo</th>\n",
       "      <th>tipo</th>\n",
       "      <th>valor</th>\n",
       "      <th>cliente1</th>\n",
       "      <th>saldo_inicial_c1</th>\n",
       "      <th>novo_saldo_c1</th>\n",
       "      <th>cliente2</th>\n",
       "      <th>saldo_inicial_c2</th>\n",
       "      <th>novo_saldo_c2</th>\n",
       "    </tr>\n",
       "  </thead>\n",
       "  <tbody>\n",
       "    <tr>\n",
       "      <th>0</th>\n",
       "      <td>0</td>\n",
       "      <td>0</td>\n",
       "      <td>1</td>\n",
       "      <td>PAYMENT</td>\n",
       "      <td>9839.64</td>\n",
       "      <td>C1231006815</td>\n",
       "      <td>170136.0</td>\n",
       "      <td>160296.36</td>\n",
       "      <td>M1979787155</td>\n",
       "      <td>0.0</td>\n",
       "      <td>0.0</td>\n",
       "    </tr>\n",
       "    <tr>\n",
       "      <th>1</th>\n",
       "      <td>0</td>\n",
       "      <td>0</td>\n",
       "      <td>1</td>\n",
       "      <td>PAYMENT</td>\n",
       "      <td>1864.28</td>\n",
       "      <td>C1666544295</td>\n",
       "      <td>21249.0</td>\n",
       "      <td>19384.72</td>\n",
       "      <td>M2044282225</td>\n",
       "      <td>0.0</td>\n",
       "      <td>0.0</td>\n",
       "    </tr>\n",
       "    <tr>\n",
       "      <th>2</th>\n",
       "      <td>0</td>\n",
       "      <td>1</td>\n",
       "      <td>1</td>\n",
       "      <td>TRANSFER</td>\n",
       "      <td>181.00</td>\n",
       "      <td>C1305486145</td>\n",
       "      <td>181.0</td>\n",
       "      <td>0.00</td>\n",
       "      <td>C553264065</td>\n",
       "      <td>0.0</td>\n",
       "      <td>0.0</td>\n",
       "    </tr>\n",
       "    <tr>\n",
       "      <th>3</th>\n",
       "      <td>0</td>\n",
       "      <td>1</td>\n",
       "      <td>1</td>\n",
       "      <td>CASH_OUT</td>\n",
       "      <td>181.00</td>\n",
       "      <td>C840083671</td>\n",
       "      <td>181.0</td>\n",
       "      <td>0.00</td>\n",
       "      <td>C38997010</td>\n",
       "      <td>21182.0</td>\n",
       "      <td>0.0</td>\n",
       "    </tr>\n",
       "    <tr>\n",
       "      <th>4</th>\n",
       "      <td>0</td>\n",
       "      <td>0</td>\n",
       "      <td>1</td>\n",
       "      <td>PAYMENT</td>\n",
       "      <td>11668.14</td>\n",
       "      <td>C2048537720</td>\n",
       "      <td>41554.0</td>\n",
       "      <td>29885.86</td>\n",
       "      <td>M1230701703</td>\n",
       "      <td>0.0</td>\n",
       "      <td>0.0</td>\n",
       "    </tr>\n",
       "  </tbody>\n",
       "</table>\n",
       "</div>"
      ],
      "text/plain": [
       "   super_fraude  fraude  tempo      tipo     valor     cliente1  \\\n",
       "0             0       0      1   PAYMENT   9839.64  C1231006815   \n",
       "1             0       0      1   PAYMENT   1864.28  C1666544295   \n",
       "2             0       1      1  TRANSFER    181.00  C1305486145   \n",
       "3             0       1      1  CASH_OUT    181.00   C840083671   \n",
       "4             0       0      1   PAYMENT  11668.14  C2048537720   \n",
       "\n",
       "   saldo_inicial_c1  novo_saldo_c1     cliente2  saldo_inicial_c2  \\\n",
       "0          170136.0      160296.36  M1979787155               0.0   \n",
       "1           21249.0       19384.72  M2044282225               0.0   \n",
       "2             181.0           0.00   C553264065               0.0   \n",
       "3             181.0           0.00    C38997010           21182.0   \n",
       "4           41554.0       29885.86  M1230701703               0.0   \n",
       "\n",
       "   novo_saldo_c2  \n",
       "0            0.0  \n",
       "1            0.0  \n",
       "2            0.0  \n",
       "3            0.0  \n",
       "4            0.0  "
      ]
     },
     "execution_count": 27,
     "metadata": {},
     "output_type": "execute_result"
    }
   ],
   "source": [
    "df = df.rename(columns=colunas)\n",
    "df.head()"
   ]
  },
  {
   "cell_type": "markdown",
   "metadata": {
    "id": "tVJ4ujv4Ltcf"
   },
   "source": [
    "### Outras informações do dataset"
   ]
  },
  {
   "cell_type": "markdown",
   "metadata": {
    "id": "z-_wceH5MOTv"
   },
   "source": [
    "O método describe() fornece as informações sobre:\n",
    "\n",
    "**count** - Conta a quantidade de número de valores não vazios. Com esses valores podemos entender melhor o tamanho da amostra.\n",
    "\n",
    "**mean** - O valor médio, em média aritmética. Como ele faz uma média aritmética nem sempre mostra a realidade da maior parte dos casos do banco de dados.\n",
    "\n",
    "**std** - O desvio padrão. É a medida de como os dados se dispersam em relação à média, ou seja, o quanto eles estão espalhados.\n",
    "\n",
    "**min** e **max** - Valores que auxiliam a identificar a amplitude da amostra, entre o valor mínimo e máximo.\n",
    "\n",
    "**quartis** - Valores que nos mostram de que forma os dados foram distribuídos, por exemplo em 50% é a mediana e metade dos valores são inferiores a X valor, a outra metade é superior àquele valor.\n",
    "\n",
    "Para saber mais sobre esse método, acesse o artigo [Ampliando a análise com o Describe](https://www.alura.com.br/artigos/ampliando-a-analise-com-describe).\n"
   ]
  },
  {
   "cell_type": "code",
   "execution_count": 28,
   "metadata": {},
   "outputs": [
    {
     "data": {
      "text/html": [
       "<div>\n",
       "<style scoped>\n",
       "    .dataframe tbody tr th:only-of-type {\n",
       "        vertical-align: middle;\n",
       "    }\n",
       "\n",
       "    .dataframe tbody tr th {\n",
       "        vertical-align: top;\n",
       "    }\n",
       "\n",
       "    .dataframe thead th {\n",
       "        text-align: right;\n",
       "    }\n",
       "</style>\n",
       "<table border=\"1\" class=\"dataframe\">\n",
       "  <thead>\n",
       "    <tr style=\"text-align: right;\">\n",
       "      <th></th>\n",
       "      <th>super_fraude</th>\n",
       "      <th>fraude</th>\n",
       "      <th>tempo</th>\n",
       "      <th>valor</th>\n",
       "      <th>saldo_inicial_c1</th>\n",
       "      <th>novo_saldo_c1</th>\n",
       "      <th>saldo_inicial_c2</th>\n",
       "      <th>novo_saldo_c2</th>\n",
       "    </tr>\n",
       "  </thead>\n",
       "  <tbody>\n",
       "    <tr>\n",
       "      <th>count</th>\n",
       "      <td>101613.0</td>\n",
       "      <td>101613.00</td>\n",
       "      <td>101613.00</td>\n",
       "      <td>101613.00</td>\n",
       "      <td>101613.00</td>\n",
       "      <td>101613.00</td>\n",
       "      <td>101613.00</td>\n",
       "      <td>101613.00</td>\n",
       "    </tr>\n",
       "    <tr>\n",
       "      <th>mean</th>\n",
       "      <td>0.0</td>\n",
       "      <td>0.00</td>\n",
       "      <td>8.52</td>\n",
       "      <td>174090.07</td>\n",
       "      <td>907175.26</td>\n",
       "      <td>923499.25</td>\n",
       "      <td>881042.80</td>\n",
       "      <td>1183998.10</td>\n",
       "    </tr>\n",
       "    <tr>\n",
       "      <th>std</th>\n",
       "      <td>0.0</td>\n",
       "      <td>0.03</td>\n",
       "      <td>1.82</td>\n",
       "      <td>345019.90</td>\n",
       "      <td>2829575.28</td>\n",
       "      <td>2867318.71</td>\n",
       "      <td>2399949.06</td>\n",
       "      <td>2797761.08</td>\n",
       "    </tr>\n",
       "    <tr>\n",
       "      <th>min</th>\n",
       "      <td>0.0</td>\n",
       "      <td>0.00</td>\n",
       "      <td>1.00</td>\n",
       "      <td>0.32</td>\n",
       "      <td>0.00</td>\n",
       "      <td>0.00</td>\n",
       "      <td>0.00</td>\n",
       "      <td>0.00</td>\n",
       "    </tr>\n",
       "    <tr>\n",
       "      <th>25%</th>\n",
       "      <td>0.0</td>\n",
       "      <td>0.00</td>\n",
       "      <td>8.00</td>\n",
       "      <td>10016.59</td>\n",
       "      <td>0.00</td>\n",
       "      <td>0.00</td>\n",
       "      <td>0.00</td>\n",
       "      <td>0.00</td>\n",
       "    </tr>\n",
       "    <tr>\n",
       "      <th>50%</th>\n",
       "      <td>0.0</td>\n",
       "      <td>0.00</td>\n",
       "      <td>9.00</td>\n",
       "      <td>53385.41</td>\n",
       "      <td>20190.47</td>\n",
       "      <td>0.00</td>\n",
       "      <td>21058.00</td>\n",
       "      <td>51783.43</td>\n",
       "    </tr>\n",
       "    <tr>\n",
       "      <th>75%</th>\n",
       "      <td>0.0</td>\n",
       "      <td>0.00</td>\n",
       "      <td>10.00</td>\n",
       "      <td>212498.40</td>\n",
       "      <td>194715.00</td>\n",
       "      <td>219217.76</td>\n",
       "      <td>591921.70</td>\n",
       "      <td>1063121.64</td>\n",
       "    </tr>\n",
       "    <tr>\n",
       "      <th>max</th>\n",
       "      <td>0.0</td>\n",
       "      <td>1.00</td>\n",
       "      <td>10.00</td>\n",
       "      <td>10000000.00</td>\n",
       "      <td>38939424.03</td>\n",
       "      <td>38946233.02</td>\n",
       "      <td>34008736.98</td>\n",
       "      <td>38946233.02</td>\n",
       "    </tr>\n",
       "  </tbody>\n",
       "</table>\n",
       "</div>"
      ],
      "text/plain": [
       "       super_fraude     fraude      tempo        valor  saldo_inicial_c1  \\\n",
       "count      101613.0  101613.00  101613.00    101613.00         101613.00   \n",
       "mean            0.0       0.00       8.52    174090.07         907175.26   \n",
       "std             0.0       0.03       1.82    345019.90        2829575.28   \n",
       "min             0.0       0.00       1.00         0.32              0.00   \n",
       "25%             0.0       0.00       8.00     10016.59              0.00   \n",
       "50%             0.0       0.00       9.00     53385.41          20190.47   \n",
       "75%             0.0       0.00      10.00    212498.40         194715.00   \n",
       "max             0.0       1.00      10.00  10000000.00       38939424.03   \n",
       "\n",
       "       novo_saldo_c1  saldo_inicial_c2  novo_saldo_c2  \n",
       "count      101613.00         101613.00      101613.00  \n",
       "mean       923499.25         881042.80     1183998.10  \n",
       "std       2867318.71        2399949.06     2797761.08  \n",
       "min             0.00              0.00           0.00  \n",
       "25%             0.00              0.00           0.00  \n",
       "50%             0.00          21058.00       51783.43  \n",
       "75%        219217.76         591921.70     1063121.64  \n",
       "max      38946233.02       34008736.98    38946233.02  "
      ]
     },
     "execution_count": 28,
     "metadata": {},
     "output_type": "execute_result"
    }
   ],
   "source": [
    "df.describe().round(2)"
   ]
  },
  {
   "cell_type": "code",
   "execution_count": 29,
   "metadata": {},
   "outputs": [
    {
     "data": {
      "text/html": [
       "<div>\n",
       "<style scoped>\n",
       "    .dataframe tbody tr th:only-of-type {\n",
       "        vertical-align: middle;\n",
       "    }\n",
       "\n",
       "    .dataframe tbody tr th {\n",
       "        vertical-align: top;\n",
       "    }\n",
       "\n",
       "    .dataframe thead th {\n",
       "        text-align: right;\n",
       "    }\n",
       "</style>\n",
       "<table border=\"1\" class=\"dataframe\">\n",
       "  <thead>\n",
       "    <tr style=\"text-align: right;\">\n",
       "      <th></th>\n",
       "      <th>count</th>\n",
       "      <th>mean</th>\n",
       "      <th>std</th>\n",
       "      <th>min</th>\n",
       "      <th>25%</th>\n",
       "      <th>50%</th>\n",
       "      <th>75%</th>\n",
       "      <th>max</th>\n",
       "    </tr>\n",
       "  </thead>\n",
       "  <tbody>\n",
       "    <tr>\n",
       "      <th>super_fraude</th>\n",
       "      <td>101613.0</td>\n",
       "      <td>0.00</td>\n",
       "      <td>0.00</td>\n",
       "      <td>0.00</td>\n",
       "      <td>0.00</td>\n",
       "      <td>0.00</td>\n",
       "      <td>0.00</td>\n",
       "      <td>0.00</td>\n",
       "    </tr>\n",
       "    <tr>\n",
       "      <th>fraude</th>\n",
       "      <td>101613.0</td>\n",
       "      <td>0.00</td>\n",
       "      <td>0.03</td>\n",
       "      <td>0.00</td>\n",
       "      <td>0.00</td>\n",
       "      <td>0.00</td>\n",
       "      <td>0.00</td>\n",
       "      <td>1.00</td>\n",
       "    </tr>\n",
       "    <tr>\n",
       "      <th>tempo</th>\n",
       "      <td>101613.0</td>\n",
       "      <td>8.52</td>\n",
       "      <td>1.82</td>\n",
       "      <td>1.00</td>\n",
       "      <td>8.00</td>\n",
       "      <td>9.00</td>\n",
       "      <td>10.00</td>\n",
       "      <td>10.00</td>\n",
       "    </tr>\n",
       "    <tr>\n",
       "      <th>valor</th>\n",
       "      <td>101613.0</td>\n",
       "      <td>174090.07</td>\n",
       "      <td>345019.90</td>\n",
       "      <td>0.32</td>\n",
       "      <td>10016.59</td>\n",
       "      <td>53385.41</td>\n",
       "      <td>212498.40</td>\n",
       "      <td>10000000.00</td>\n",
       "    </tr>\n",
       "    <tr>\n",
       "      <th>saldo_inicial_c1</th>\n",
       "      <td>101613.0</td>\n",
       "      <td>907175.26</td>\n",
       "      <td>2829575.28</td>\n",
       "      <td>0.00</td>\n",
       "      <td>0.00</td>\n",
       "      <td>20190.47</td>\n",
       "      <td>194715.00</td>\n",
       "      <td>38939424.03</td>\n",
       "    </tr>\n",
       "    <tr>\n",
       "      <th>novo_saldo_c1</th>\n",
       "      <td>101613.0</td>\n",
       "      <td>923499.25</td>\n",
       "      <td>2867318.71</td>\n",
       "      <td>0.00</td>\n",
       "      <td>0.00</td>\n",
       "      <td>0.00</td>\n",
       "      <td>219217.76</td>\n",
       "      <td>38946233.02</td>\n",
       "    </tr>\n",
       "    <tr>\n",
       "      <th>saldo_inicial_c2</th>\n",
       "      <td>101613.0</td>\n",
       "      <td>881042.80</td>\n",
       "      <td>2399949.06</td>\n",
       "      <td>0.00</td>\n",
       "      <td>0.00</td>\n",
       "      <td>21058.00</td>\n",
       "      <td>591921.70</td>\n",
       "      <td>34008736.98</td>\n",
       "    </tr>\n",
       "    <tr>\n",
       "      <th>novo_saldo_c2</th>\n",
       "      <td>101613.0</td>\n",
       "      <td>1183998.10</td>\n",
       "      <td>2797761.08</td>\n",
       "      <td>0.00</td>\n",
       "      <td>0.00</td>\n",
       "      <td>51783.43</td>\n",
       "      <td>1063121.64</td>\n",
       "      <td>38946233.02</td>\n",
       "    </tr>\n",
       "  </tbody>\n",
       "</table>\n",
       "</div>"
      ],
      "text/plain": [
       "                     count        mean         std   min       25%       50%  \\\n",
       "super_fraude      101613.0        0.00        0.00  0.00      0.00      0.00   \n",
       "fraude            101613.0        0.00        0.03  0.00      0.00      0.00   \n",
       "tempo             101613.0        8.52        1.82  1.00      8.00      9.00   \n",
       "valor             101613.0   174090.07   345019.90  0.32  10016.59  53385.41   \n",
       "saldo_inicial_c1  101613.0   907175.26  2829575.28  0.00      0.00  20190.47   \n",
       "novo_saldo_c1     101613.0   923499.25  2867318.71  0.00      0.00      0.00   \n",
       "saldo_inicial_c2  101613.0   881042.80  2399949.06  0.00      0.00  21058.00   \n",
       "novo_saldo_c2     101613.0  1183998.10  2797761.08  0.00      0.00  51783.43   \n",
       "\n",
       "                         75%          max  \n",
       "super_fraude            0.00         0.00  \n",
       "fraude                  0.00         1.00  \n",
       "tempo                  10.00        10.00  \n",
       "valor              212498.40  10000000.00  \n",
       "saldo_inicial_c1   194715.00  38939424.03  \n",
       "novo_saldo_c1      219217.76  38946233.02  \n",
       "saldo_inicial_c2   591921.70  34008736.98  \n",
       "novo_saldo_c2     1063121.64  38946233.02  "
      ]
     },
     "execution_count": 29,
     "metadata": {},
     "output_type": "execute_result"
    }
   ],
   "source": [
    "df.describe().round(2).T"
   ]
  },
  {
   "cell_type": "code",
   "execution_count": 30,
   "metadata": {},
   "outputs": [
    {
     "data": {
      "text/plain": [
       "(101613, 11)"
      ]
     },
     "execution_count": 30,
     "metadata": {},
     "output_type": "execute_result"
    }
   ],
   "source": [
    "df.shape"
   ]
  },
  {
   "cell_type": "code",
   "execution_count": 31,
   "metadata": {},
   "outputs": [
    {
     "name": "stdout",
     "output_type": "stream",
     "text": [
      "<class 'pandas.core.frame.DataFrame'>\n",
      "RangeIndex: 101613 entries, 0 to 101612\n",
      "Data columns (total 11 columns):\n",
      " #   Column            Non-Null Count   Dtype  \n",
      "---  ------            --------------   -----  \n",
      " 0   super_fraude      101613 non-null  int64  \n",
      " 1   fraude            101613 non-null  int64  \n",
      " 2   tempo             101613 non-null  int64  \n",
      " 3   tipo              101613 non-null  object \n",
      " 4   valor             101613 non-null  float64\n",
      " 5   cliente1          101613 non-null  object \n",
      " 6   saldo_inicial_c1  101613 non-null  float64\n",
      " 7   novo_saldo_c1     101613 non-null  float64\n",
      " 8   cliente2          101613 non-null  object \n",
      " 9   saldo_inicial_c2  101613 non-null  float64\n",
      " 10  novo_saldo_c2     101613 non-null  float64\n",
      "dtypes: float64(5), int64(3), object(3)\n",
      "memory usage: 8.5+ MB\n"
     ]
    }
   ],
   "source": [
    "df.info()"
   ]
  },
  {
   "cell_type": "markdown",
   "metadata": {
    "id": "eJazaOp9LFMQ"
   },
   "source": [
    "### Verificando a variável target"
   ]
  },
  {
   "cell_type": "code",
   "execution_count": 32,
   "metadata": {},
   "outputs": [
    {
     "data": {
      "text/plain": [
       "fraude\n",
       "0    101497\n",
       "1       116\n",
       "Name: tempo, dtype: int64"
      ]
     },
     "execution_count": 32,
     "metadata": {},
     "output_type": "execute_result"
    }
   ],
   "source": [
    "df.groupby('fraude').tempo.count()"
   ]
  },
  {
   "cell_type": "code",
   "execution_count": 33,
   "metadata": {},
   "outputs": [
    {
     "data": {
      "text/plain": [
       "False"
      ]
     },
     "execution_count": 33,
     "metadata": {},
     "output_type": "execute_result"
    }
   ],
   "source": [
    "df.isnull().values.any()"
   ]
  },
  {
   "cell_type": "markdown",
   "metadata": {
    "id": "RBpETqBaMizu"
   },
   "source": [
    "## Encoding"
   ]
  },
  {
   "cell_type": "markdown",
   "metadata": {
    "id": "irDrx1CuiuKZ"
   },
   "source": [
    "### Aplicando o Encoding"
   ]
  },
  {
   "cell_type": "markdown",
   "metadata": {
    "id": "nrkpbqfHnfdQ"
   },
   "source": [
    "#### **Tipos de encoding**\n",
    "\n",
    "**Label Encoding** - Renomea as classes com valores numéricos de 1 a **n**, sendo n o número de classes. Pode existir hierarquia entre as classes.\n",
    "\n",
    "**One-Hot Encoding** - Transforma as variáveis em **n** colunas binárias, sendo n o número de classes. Todas as classes são analisadas de forma igual, quando tiver a ocorrência dela a coluna terá o valor 1 e quando não o valor 0, isso acontece para as demais colunas criadas.\n",
    "\n"
   ]
  },
  {
   "cell_type": "code",
   "execution_count": 35,
   "metadata": {},
   "outputs": [
    {
     "data": {
      "text/html": [
       "<div>\n",
       "<style scoped>\n",
       "    .dataframe tbody tr th:only-of-type {\n",
       "        vertical-align: middle;\n",
       "    }\n",
       "\n",
       "    .dataframe tbody tr th {\n",
       "        vertical-align: top;\n",
       "    }\n",
       "\n",
       "    .dataframe thead th {\n",
       "        text-align: right;\n",
       "    }\n",
       "</style>\n",
       "<table border=\"1\" class=\"dataframe\">\n",
       "  <thead>\n",
       "    <tr style=\"text-align: right;\">\n",
       "      <th></th>\n",
       "      <th>super_fraude</th>\n",
       "      <th>fraude</th>\n",
       "      <th>tempo</th>\n",
       "      <th>valor</th>\n",
       "      <th>cliente1</th>\n",
       "      <th>saldo_inicial_c1</th>\n",
       "      <th>novo_saldo_c1</th>\n",
       "      <th>cliente2</th>\n",
       "      <th>saldo_inicial_c2</th>\n",
       "      <th>novo_saldo_c2</th>\n",
       "      <th>tipo_CASH_IN</th>\n",
       "      <th>tipo_CASH_OUT</th>\n",
       "      <th>tipo_DEBIT</th>\n",
       "      <th>tipo_PAYMENT</th>\n",
       "      <th>tipo_TRANSFER</th>\n",
       "    </tr>\n",
       "  </thead>\n",
       "  <tbody>\n",
       "    <tr>\n",
       "      <th>0</th>\n",
       "      <td>0</td>\n",
       "      <td>0</td>\n",
       "      <td>1</td>\n",
       "      <td>9839.64</td>\n",
       "      <td>C1231006815</td>\n",
       "      <td>170136.0</td>\n",
       "      <td>160296.36</td>\n",
       "      <td>M1979787155</td>\n",
       "      <td>0.0</td>\n",
       "      <td>0.0</td>\n",
       "      <td>0</td>\n",
       "      <td>0</td>\n",
       "      <td>0</td>\n",
       "      <td>1</td>\n",
       "      <td>0</td>\n",
       "    </tr>\n",
       "    <tr>\n",
       "      <th>1</th>\n",
       "      <td>0</td>\n",
       "      <td>0</td>\n",
       "      <td>1</td>\n",
       "      <td>1864.28</td>\n",
       "      <td>C1666544295</td>\n",
       "      <td>21249.0</td>\n",
       "      <td>19384.72</td>\n",
       "      <td>M2044282225</td>\n",
       "      <td>0.0</td>\n",
       "      <td>0.0</td>\n",
       "      <td>0</td>\n",
       "      <td>0</td>\n",
       "      <td>0</td>\n",
       "      <td>1</td>\n",
       "      <td>0</td>\n",
       "    </tr>\n",
       "    <tr>\n",
       "      <th>2</th>\n",
       "      <td>0</td>\n",
       "      <td>1</td>\n",
       "      <td>1</td>\n",
       "      <td>181.00</td>\n",
       "      <td>C1305486145</td>\n",
       "      <td>181.0</td>\n",
       "      <td>0.00</td>\n",
       "      <td>C553264065</td>\n",
       "      <td>0.0</td>\n",
       "      <td>0.0</td>\n",
       "      <td>0</td>\n",
       "      <td>0</td>\n",
       "      <td>0</td>\n",
       "      <td>0</td>\n",
       "      <td>1</td>\n",
       "    </tr>\n",
       "    <tr>\n",
       "      <th>3</th>\n",
       "      <td>0</td>\n",
       "      <td>1</td>\n",
       "      <td>1</td>\n",
       "      <td>181.00</td>\n",
       "      <td>C840083671</td>\n",
       "      <td>181.0</td>\n",
       "      <td>0.00</td>\n",
       "      <td>C38997010</td>\n",
       "      <td>21182.0</td>\n",
       "      <td>0.0</td>\n",
       "      <td>0</td>\n",
       "      <td>1</td>\n",
       "      <td>0</td>\n",
       "      <td>0</td>\n",
       "      <td>0</td>\n",
       "    </tr>\n",
       "    <tr>\n",
       "      <th>4</th>\n",
       "      <td>0</td>\n",
       "      <td>0</td>\n",
       "      <td>1</td>\n",
       "      <td>11668.14</td>\n",
       "      <td>C2048537720</td>\n",
       "      <td>41554.0</td>\n",
       "      <td>29885.86</td>\n",
       "      <td>M1230701703</td>\n",
       "      <td>0.0</td>\n",
       "      <td>0.0</td>\n",
       "      <td>0</td>\n",
       "      <td>0</td>\n",
       "      <td>0</td>\n",
       "      <td>1</td>\n",
       "      <td>0</td>\n",
       "    </tr>\n",
       "  </tbody>\n",
       "</table>\n",
       "</div>"
      ],
      "text/plain": [
       "   super_fraude  fraude  tempo     valor     cliente1  saldo_inicial_c1  \\\n",
       "0             0       0      1   9839.64  C1231006815          170136.0   \n",
       "1             0       0      1   1864.28  C1666544295           21249.0   \n",
       "2             0       1      1    181.00  C1305486145             181.0   \n",
       "3             0       1      1    181.00   C840083671             181.0   \n",
       "4             0       0      1  11668.14  C2048537720           41554.0   \n",
       "\n",
       "   novo_saldo_c1     cliente2  saldo_inicial_c2  novo_saldo_c2  tipo_CASH_IN  \\\n",
       "0      160296.36  M1979787155               0.0            0.0             0   \n",
       "1       19384.72  M2044282225               0.0            0.0             0   \n",
       "2           0.00   C553264065               0.0            0.0             0   \n",
       "3           0.00    C38997010           21182.0            0.0             0   \n",
       "4       29885.86  M1230701703               0.0            0.0             0   \n",
       "\n",
       "   tipo_CASH_OUT  tipo_DEBIT  tipo_PAYMENT  tipo_TRANSFER  \n",
       "0              0           0             1              0  \n",
       "1              0           0             1              0  \n",
       "2              0           0             0              1  \n",
       "3              1           0             0              0  \n",
       "4              0           0             1              0  "
      ]
     },
     "execution_count": 35,
     "metadata": {},
     "output_type": "execute_result"
    }
   ],
   "source": [
    "df = pd.get_dummies(data=df, columns=['tipo'])\n",
    "df.head()"
   ]
  },
  {
   "cell_type": "markdown",
   "metadata": {
    "id": "HwOXYrTCosAQ"
   },
   "source": [
    "#### Removendo variáveis"
   ]
  },
  {
   "cell_type": "code",
   "execution_count": 36,
   "metadata": {},
   "outputs": [
    {
     "data": {
      "text/html": [
       "<div>\n",
       "<style scoped>\n",
       "    .dataframe tbody tr th:only-of-type {\n",
       "        vertical-align: middle;\n",
       "    }\n",
       "\n",
       "    .dataframe tbody tr th {\n",
       "        vertical-align: top;\n",
       "    }\n",
       "\n",
       "    .dataframe thead th {\n",
       "        text-align: right;\n",
       "    }\n",
       "</style>\n",
       "<table border=\"1\" class=\"dataframe\">\n",
       "  <thead>\n",
       "    <tr style=\"text-align: right;\">\n",
       "      <th></th>\n",
       "      <th>fraude</th>\n",
       "      <th>tempo</th>\n",
       "      <th>valor</th>\n",
       "      <th>saldo_inicial_c1</th>\n",
       "      <th>novo_saldo_c1</th>\n",
       "      <th>saldo_inicial_c2</th>\n",
       "      <th>novo_saldo_c2</th>\n",
       "      <th>tipo_CASH_IN</th>\n",
       "      <th>tipo_CASH_OUT</th>\n",
       "      <th>tipo_DEBIT</th>\n",
       "      <th>tipo_PAYMENT</th>\n",
       "      <th>tipo_TRANSFER</th>\n",
       "    </tr>\n",
       "  </thead>\n",
       "  <tbody>\n",
       "    <tr>\n",
       "      <th>0</th>\n",
       "      <td>0</td>\n",
       "      <td>1</td>\n",
       "      <td>9839.64</td>\n",
       "      <td>170136.0</td>\n",
       "      <td>160296.36</td>\n",
       "      <td>0.0</td>\n",
       "      <td>0.0</td>\n",
       "      <td>0</td>\n",
       "      <td>0</td>\n",
       "      <td>0</td>\n",
       "      <td>1</td>\n",
       "      <td>0</td>\n",
       "    </tr>\n",
       "    <tr>\n",
       "      <th>1</th>\n",
       "      <td>0</td>\n",
       "      <td>1</td>\n",
       "      <td>1864.28</td>\n",
       "      <td>21249.0</td>\n",
       "      <td>19384.72</td>\n",
       "      <td>0.0</td>\n",
       "      <td>0.0</td>\n",
       "      <td>0</td>\n",
       "      <td>0</td>\n",
       "      <td>0</td>\n",
       "      <td>1</td>\n",
       "      <td>0</td>\n",
       "    </tr>\n",
       "    <tr>\n",
       "      <th>2</th>\n",
       "      <td>1</td>\n",
       "      <td>1</td>\n",
       "      <td>181.00</td>\n",
       "      <td>181.0</td>\n",
       "      <td>0.00</td>\n",
       "      <td>0.0</td>\n",
       "      <td>0.0</td>\n",
       "      <td>0</td>\n",
       "      <td>0</td>\n",
       "      <td>0</td>\n",
       "      <td>0</td>\n",
       "      <td>1</td>\n",
       "    </tr>\n",
       "    <tr>\n",
       "      <th>3</th>\n",
       "      <td>1</td>\n",
       "      <td>1</td>\n",
       "      <td>181.00</td>\n",
       "      <td>181.0</td>\n",
       "      <td>0.00</td>\n",
       "      <td>21182.0</td>\n",
       "      <td>0.0</td>\n",
       "      <td>0</td>\n",
       "      <td>1</td>\n",
       "      <td>0</td>\n",
       "      <td>0</td>\n",
       "      <td>0</td>\n",
       "    </tr>\n",
       "    <tr>\n",
       "      <th>4</th>\n",
       "      <td>0</td>\n",
       "      <td>1</td>\n",
       "      <td>11668.14</td>\n",
       "      <td>41554.0</td>\n",
       "      <td>29885.86</td>\n",
       "      <td>0.0</td>\n",
       "      <td>0.0</td>\n",
       "      <td>0</td>\n",
       "      <td>0</td>\n",
       "      <td>0</td>\n",
       "      <td>1</td>\n",
       "      <td>0</td>\n",
       "    </tr>\n",
       "  </tbody>\n",
       "</table>\n",
       "</div>"
      ],
      "text/plain": [
       "   fraude  tempo     valor  saldo_inicial_c1  novo_saldo_c1  saldo_inicial_c2  \\\n",
       "0       0      1   9839.64          170136.0      160296.36               0.0   \n",
       "1       0      1   1864.28           21249.0       19384.72               0.0   \n",
       "2       1      1    181.00             181.0           0.00               0.0   \n",
       "3       1      1    181.00             181.0           0.00           21182.0   \n",
       "4       0      1  11668.14           41554.0       29885.86               0.0   \n",
       "\n",
       "   novo_saldo_c2  tipo_CASH_IN  tipo_CASH_OUT  tipo_DEBIT  tipo_PAYMENT  \\\n",
       "0            0.0             0              0           0             1   \n",
       "1            0.0             0              0           0             1   \n",
       "2            0.0             0              0           0             0   \n",
       "3            0.0             0              1           0             0   \n",
       "4            0.0             0              0           0             1   \n",
       "\n",
       "   tipo_TRANSFER  \n",
       "0              0  \n",
       "1              0  \n",
       "2              1  \n",
       "3              0  \n",
       "4              0  "
      ]
     },
     "execution_count": 36,
     "metadata": {},
     "output_type": "execute_result"
    }
   ],
   "source": [
    "df = df.drop(['cliente1', 'cliente2', 'super_fraude'], axis=1)\n",
    "df.head()"
   ]
  },
  {
   "cell_type": "markdown",
   "metadata": {
    "id": "KrCm9qJEisBI"
   },
   "source": [
    "### Pandas Profiling"
   ]
  },
  {
   "cell_type": "markdown",
   "metadata": {
    "id": "Jchv8BEBxojL"
   },
   "source": [
    "Instalando o Pandas Profiling\n",
    "\n",
    "```!pip install -U pandas-profiling```"
   ]
  },
  {
   "cell_type": "code",
   "execution_count": null,
   "metadata": {},
   "outputs": [],
   "source": []
  },
  {
   "cell_type": "markdown",
   "metadata": {
    "id": "2dMihrBKNIEF"
   },
   "source": [
    "# Aula 3"
   ]
  },
  {
   "cell_type": "markdown",
   "metadata": {
    "id": "pfWzAWlrhfYR"
   },
   "source": [
    "## Regressão Logística"
   ]
  },
  {
   "cell_type": "code",
   "execution_count": null,
   "metadata": {
    "id": "A1rnkJ59NJ_2"
   },
   "outputs": [],
   "source": []
  },
  {
   "cell_type": "markdown",
   "metadata": {
    "id": "j44GLj2AhilI"
   },
   "source": [
    "## Balanceamento de dados"
   ]
  },
  {
   "cell_type": "code",
   "execution_count": null,
   "metadata": {
    "id": "3s33yYyhhmVn"
   },
   "outputs": [],
   "source": []
  },
  {
   "cell_type": "markdown",
   "metadata": {
    "id": "Kyvew0CchnhR"
   },
   "source": [
    "## Formulando as hipóteses"
   ]
  },
  {
   "cell_type": "code",
   "execution_count": null,
   "metadata": {
    "id": "IbcNWU4vhqGY"
   },
   "outputs": [],
   "source": []
  },
  {
   "cell_type": "markdown",
   "metadata": {
    "id": "9sz-sfx4icAQ"
   },
   "source": [
    "**Inserir as hipóteses aqui!** (dê um duplo clique na célula)"
   ]
  },
  {
   "cell_type": "markdown",
   "metadata": {
    "id": "Lxuitc62hxuB"
   },
   "source": [
    "# Aula 4"
   ]
  },
  {
   "cell_type": "markdown",
   "metadata": {
    "id": "Sxc3b5Qkh2th"
   },
   "source": [
    "## Árvore de Decisão"
   ]
  },
  {
   "cell_type": "code",
   "execution_count": null,
   "metadata": {
    "id": "bgRmKIfahy2q"
   },
   "outputs": [],
   "source": []
  },
  {
   "cell_type": "markdown",
   "metadata": {
    "id": "TVqmiB4yhzbg"
   },
   "source": [
    "## Random Forest"
   ]
  },
  {
   "cell_type": "code",
   "execution_count": null,
   "metadata": {
    "id": "tiZa5pIhh2Vs"
   },
   "outputs": [],
   "source": []
  },
  {
   "cell_type": "markdown",
   "metadata": {
    "id": "-gdlvQUjh6WD"
   },
   "source": [
    "## Análise de Métricas"
   ]
  },
  {
   "cell_type": "code",
   "execution_count": null,
   "metadata": {
    "id": "fshZb8kBh8Z9"
   },
   "outputs": [],
   "source": []
  },
  {
   "cell_type": "markdown",
   "metadata": {
    "id": "8r6EWH_Rh9Y4"
   },
   "source": [
    "# Aula 5"
   ]
  },
  {
   "cell_type": "markdown",
   "metadata": {
    "id": "I6gTbG8hiAR5"
   },
   "source": [
    "## Melhorando o modelo"
   ]
  },
  {
   "cell_type": "code",
   "execution_count": null,
   "metadata": {
    "id": "FWHfVIvxh-SC"
   },
   "outputs": [],
   "source": []
  },
  {
   "cell_type": "markdown",
   "metadata": {
    "id": "yt-E3yVUh_PR"
   },
   "source": [
    "## Resultados Finais"
   ]
  },
  {
   "cell_type": "code",
   "execution_count": null,
   "metadata": {
    "id": "4yJaNnRsiFI5"
   },
   "outputs": [],
   "source": []
  },
  {
   "cell_type": "markdown",
   "metadata": {
    "id": "hmI3dXt5iFf5"
   },
   "source": [
    "## Conclusão"
   ]
  },
  {
   "cell_type": "markdown",
   "metadata": {
    "id": "Ofyqowo8iI8x"
   },
   "source": [
    "**Inserir as soluções para cada hipótese aqui!** (dê um duplo clique na célula)"
   ]
  }
 ],
 "metadata": {
  "colab": {
   "collapsed_sections": [
    "RBpETqBaMizu",
    "nrkpbqfHnfdQ",
    "pfWzAWlrhfYR",
    "j44GLj2AhilI",
    "Kyvew0CchnhR",
    "Lxuitc62hxuB",
    "8r6EWH_Rh9Y4"
   ],
   "name": "Detec_Fraude - Aula 1.3.ipynb",
   "provenance": [
    {
     "file_id": "1j90hrhpQ10l0wdiCpzGW30kYPSQzY_rZ",
     "timestamp": 1650910830804
    }
   ]
  },
  "kernelspec": {
   "display_name": "Python 3 (ipykernel)",
   "language": "python",
   "name": "python3"
  },
  "language_info": {
   "codemirror_mode": {
    "name": "ipython",
    "version": 3
   },
   "file_extension": ".py",
   "mimetype": "text/x-python",
   "name": "python",
   "nbconvert_exporter": "python",
   "pygments_lexer": "ipython3",
   "version": "3.10.5"
  }
 },
 "nbformat": 4,
 "nbformat_minor": 4
}
